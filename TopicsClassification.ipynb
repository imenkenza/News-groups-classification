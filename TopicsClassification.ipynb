{
 "cells": [
  {
   "cell_type": "code",
   "execution_count": 46,
   "metadata": {},
   "outputs": [],
   "source": [
    "import os\n",
    "import random\n",
    "import numpy as np\n",
    "import pandas as pd\n",
    "import matplotlib.pyplot as plt\n",
    "import seaborn as sns"
   ]
  },
  {
   "cell_type": "code",
   "execution_count": 47,
   "metadata": {},
   "outputs": [],
   "source": [
    "df=pd.read_csv('topics.csv', on_bad_lines='skip')"
   ]
  },
  {
   "cell_type": "code",
   "execution_count": 48,
   "metadata": {},
   "outputs": [
    {
     "data": {
      "text/plain": [
       "(18775, 2)"
      ]
     },
     "execution_count": 48,
     "metadata": {},
     "output_type": "execute_result"
    }
   ],
   "source": [
    "df.shape"
   ]
  },
  {
   "cell_type": "code",
   "execution_count": 49,
   "metadata": {},
   "outputs": [
    {
     "data": {
      "text/html": [
       "<div>\n",
       "<style scoped>\n",
       "    .dataframe tbody tr th:only-of-type {\n",
       "        vertical-align: middle;\n",
       "    }\n",
       "\n",
       "    .dataframe tbody tr th {\n",
       "        vertical-align: top;\n",
       "    }\n",
       "\n",
       "    .dataframe thead th {\n",
       "        text-align: right;\n",
       "    }\n",
       "</style>\n",
       "<table border=\"1\" class=\"dataframe\">\n",
       "  <thead>\n",
       "    <tr style=\"text-align: right;\">\n",
       "      <th></th>\n",
       "      <th>text</th>\n",
       "      <th>label</th>\n",
       "    </tr>\n",
       "  </thead>\n",
       "  <tbody>\n",
       "    <tr>\n",
       "      <th>0</th>\n",
       "      <td>Y'all lighten up on Harry, Skip'll be like tha...</td>\n",
       "      <td>rec.sport.baseball</td>\n",
       "    </tr>\n",
       "    <tr>\n",
       "      <th>1</th>\n",
       "      <td>\\nIt depends on the cause of the pneumonia.  F...</td>\n",
       "      <td>sci.med</td>\n",
       "    </tr>\n",
       "    <tr>\n",
       "      <th>2</th>\n",
       "      <td>\\nThere is a wonderful book by Jean Meeus call...</td>\n",
       "      <td>sci.space</td>\n",
       "    </tr>\n",
       "    <tr>\n",
       "      <th>3</th>\n",
       "      <td>\\n\\n\\nNo, you have completely misunderstood.  ...</td>\n",
       "      <td>talk.politics.mideast</td>\n",
       "    </tr>\n",
       "    <tr>\n",
       "      <th>4</th>\n",
       "      <td>\\nThat's not true.    I gave you two examples....</td>\n",
       "      <td>alt.atheism</td>\n",
       "    </tr>\n",
       "    <tr>\n",
       "      <th>5</th>\n",
       "      <td>\\nAbout a month ago there was a photo posted o...</td>\n",
       "      <td>sci.electronics</td>\n",
       "    </tr>\n",
       "    <tr>\n",
       "      <th>6</th>\n",
       "      <td>Thanks to all those people who recommended Wor...</td>\n",
       "      <td>comp.os.ms-windows.misc</td>\n",
       "    </tr>\n",
       "    <tr>\n",
       "      <th>7</th>\n",
       "      <td>\\nYou are making precisely one of the points I...</td>\n",
       "      <td>sci.med</td>\n",
       "    </tr>\n",
       "    <tr>\n",
       "      <th>8</th>\n",
       "      <td>\\n\\tDoes anyone have details on this?   What s...</td>\n",
       "      <td>comp.sys.mac.hardware</td>\n",
       "    </tr>\n",
       "    <tr>\n",
       "      <th>9</th>\n",
       "      <td>While there are too many PS clones to count, s...</td>\n",
       "      <td>comp.os.ms-windows.misc</td>\n",
       "    </tr>\n",
       "  </tbody>\n",
       "</table>\n",
       "</div>"
      ],
      "text/plain": [
       "                                                text                    label\n",
       "0  Y'all lighten up on Harry, Skip'll be like tha...       rec.sport.baseball\n",
       "1  \\nIt depends on the cause of the pneumonia.  F...                  sci.med\n",
       "2  \\nThere is a wonderful book by Jean Meeus call...                sci.space\n",
       "3  \\n\\n\\nNo, you have completely misunderstood.  ...    talk.politics.mideast\n",
       "4  \\nThat's not true.    I gave you two examples....              alt.atheism\n",
       "5  \\nAbout a month ago there was a photo posted o...          sci.electronics\n",
       "6  Thanks to all those people who recommended Wor...  comp.os.ms-windows.misc\n",
       "7  \\nYou are making precisely one of the points I...                  sci.med\n",
       "8  \\n\\tDoes anyone have details on this?   What s...    comp.sys.mac.hardware\n",
       "9  While there are too many PS clones to count, s...  comp.os.ms-windows.misc"
      ]
     },
     "execution_count": 49,
     "metadata": {},
     "output_type": "execute_result"
    }
   ],
   "source": [
    "df.head(10)"
   ]
  },
  {
   "cell_type": "code",
   "execution_count": 50,
   "metadata": {},
   "outputs": [
    {
     "name": "stdout",
     "output_type": "stream",
     "text": [
      "<class 'pandas.core.frame.DataFrame'>\n",
      "RangeIndex: 18775 entries, 0 to 18774\n",
      "Data columns (total 2 columns):\n",
      " #   Column  Non-Null Count  Dtype \n",
      "---  ------  --------------  ----- \n",
      " 0   text    18396 non-null  object\n",
      " 1   label   18748 non-null  object\n",
      "dtypes: object(2)\n",
      "memory usage: 293.5+ KB\n"
     ]
    }
   ],
   "source": [
    "df.info()"
   ]
  },
  {
   "cell_type": "code",
   "execution_count": 51,
   "metadata": {},
   "outputs": [],
   "source": [
    "df=df.dropna(how='any')\n",
    "df=df.drop_duplicates()"
   ]
  },
  {
   "cell_type": "code",
   "execution_count": 52,
   "metadata": {},
   "outputs": [
    {
     "data": {
      "text/plain": [
       "label\n",
       "soc.religion.christian                                                                                                                                                                                                                                                                                                                                                                                                                                 978\n",
       "rec.sport.hockey                                                                                                                                                                                                                                                                                                                                                                                                                                       978\n",
       "rec.motorcycles                                                                                                                                                                                                                                                                                                                                                                                                                                        971\n",
       "comp.sys.ibm.pc.hardware                                                                                                                                                                                                                                                                                                                                                                                                                               967\n",
       "sci.crypt                                                                                                                                                                                                                                                                                                                                                                                                                                              964\n",
       "rec.sport.baseball                                                                                                                                                                                                                                                                                                                                                                                                                                     962\n",
       "sci.med                                                                                                                                                                                                                                                                                                                                                                                                                                                962\n",
       "comp.windows.x                                                                                                                                                                                                                                                                                                                                                                                                                                         958\n",
       "sci.space                                                                                                                                                                                                                                                                                                                                                                                                                                              955\n",
       "sci.electronics                                                                                                                                                                                                                                                                                                                                                                                                                                        954\n",
       "comp.graphics                                                                                                                                                                                                                                                                                                                                                                                                                                          954\n",
       "comp.os.ms-windows.misc                                                                                                                                                                                                                                                                                                                                                                                                                                949\n",
       "misc.forsale                                                                                                                                                                                                                                                                                                                                                                                                                                           945\n",
       "rec.autos                                                                                                                                                                                                                                                                                                                                                                                                                                              937\n",
       "comp.sys.mac.hardware                                                                                                                                                                                                                                                                                                                                                                                                                                  931\n",
       "talk.politics.mideast                                                                                                                                                                                                                                                                                                                                                                                                                                  911\n",
       "talk.politics.guns                                                                                                                                                                                                                                                                                                                                                                                                                                     887\n",
       "alt.atheism                                                                                                                                                                                                                                                                                                                                                                                                                                            769\n",
       "talk.politics.misc                                                                                                                                                                                                                                                                                                                                                                                                                                     711\n",
       "talk.religion.misc                                                                                                                                                                                                                                                                                                                                                                                                                                     598\n",
       " ending discrimination is now fascism.                                                                                                                                                                                                                                                                                                                                                                                                                   1\n",
       " but I've just started playing with a programcalled POVRay (Persistance of Vision Raytracer) that also displays its outputvia X Windows.  It does a fairly good job of allocating the colormap on myPsuedo-Color 8-plane display.  I got the source from from a site in Canda.The person I retrieved them from was David Buck (dbuck@ccs.carleton.ca).Patrick L. Mahan--- TGV Window Washer ------------------------------- Mahan@TGV.COM ---------      1\n",
       " I saw today in 6 o'clock news on KCBS here in San Francisco                                                                                                                                                                                                                                                                                                                                                                                             1\n",
       " and actively ripping people off.And charging homosexuals more becuase people think that AIDS is a \"gaydisease\" is actively ripping people off.                                                                                                                                                                                                                                                                                                          1\n",
       " it was the penguin on TOP of the set that exploded...;-}                                                                                                                                                                                                                                                                                                                                                                                                1\n",
       " 16 Apr 1993 13:18:42 GMT ]                                                                                                                                                                                                                                                                                                                                                                                                                              1\n",
       " reduced to $90                                                                                                                                                                                                                                                                                                                                                                                                                                          1\n",
       " would like to sell                                                                                                                                                                                                                                                                                                                                                                                                                                      1\n",
       " Online Computer Systems.  1-800-922-9204 or 1-301-601-2215                                                                                                                                                                                                                                                                                                                                                                                              1\n",
       " I .mean it!                                                                                                                                                                                                                                                                                                                                                                                                                                             1\n",
       " I thought not.Just slander on your part.                                                                                                                                                                                                                                                                                                                                                                                                                1\n",
       " how willchanging them to a seperate agency help anything?                                                                                                                                                                                                                                                                                                                                                                                               1\n",
       "Name: count, dtype: int64"
      ]
     },
     "execution_count": 52,
     "metadata": {},
     "output_type": "execute_result"
    }
   ],
   "source": [
    "df['label'].value_counts()"
   ]
  },
  {
   "cell_type": "code",
   "execution_count": 53,
   "metadata": {},
   "outputs": [],
   "source": [
    "df=df[df['label'].str.startswith(('soc.','rec.','comp.','sci.','misc.','talk.','alt.'))]"
   ]
  },
  {
   "cell_type": "code",
   "execution_count": 54,
   "metadata": {},
   "outputs": [
    {
     "data": {
      "text/plain": [
       "label\n",
       "rec.sport.hockey            978\n",
       "soc.religion.christian      978\n",
       "rec.motorcycles             971\n",
       "comp.sys.ibm.pc.hardware    967\n",
       "sci.crypt                   964\n",
       "rec.sport.baseball          962\n",
       "sci.med                     962\n",
       "comp.windows.x              958\n",
       "sci.space                   955\n",
       "comp.graphics               954\n",
       "sci.electronics             954\n",
       "comp.os.ms-windows.misc     949\n",
       "misc.forsale                945\n",
       "rec.autos                   937\n",
       "comp.sys.mac.hardware       931\n",
       "talk.politics.mideast       911\n",
       "talk.politics.guns          887\n",
       "alt.atheism                 769\n",
       "talk.politics.misc          711\n",
       "talk.religion.misc          598\n",
       "Name: count, dtype: int64"
      ]
     },
     "execution_count": 54,
     "metadata": {},
     "output_type": "execute_result"
    }
   ],
   "source": [
    "df['label'].value_counts()"
   ]
  },
  {
   "cell_type": "code",
   "execution_count": 55,
   "metadata": {},
   "outputs": [
    {
     "data": {
      "text/plain": [
       "(18241, 2)"
      ]
     },
     "execution_count": 55,
     "metadata": {},
     "output_type": "execute_result"
    }
   ],
   "source": [
    "df.shape"
   ]
  },
  {
   "cell_type": "code",
   "execution_count": 56,
   "metadata": {},
   "outputs": [
    {
     "data": {
      "text/plain": [
       "text     18176\n",
       "label       20\n",
       "dtype: int64"
      ]
     },
     "execution_count": 56,
     "metadata": {},
     "output_type": "execute_result"
    }
   ],
   "source": [
    "df.nunique()"
   ]
  },
  {
   "cell_type": "code",
   "execution_count": 59,
   "metadata": {},
   "outputs": [],
   "source": [
    "df=df.drop_duplicates(subset='text')"
   ]
  },
  {
   "cell_type": "code",
   "execution_count": null,
   "metadata": {},
   "outputs": [],
   "source": []
  },
  {
   "cell_type": "code",
   "execution_count": null,
   "metadata": {},
   "outputs": [],
   "source": []
  }
 ],
 "metadata": {
  "kernelspec": {
   "display_name": "Python 3",
   "language": "python",
   "name": "python3"
  },
  "language_info": {
   "codemirror_mode": {
    "name": "ipython",
    "version": 3
   },
   "file_extension": ".py",
   "mimetype": "text/x-python",
   "name": "python",
   "nbconvert_exporter": "python",
   "pygments_lexer": "ipython3",
   "version": "3.9.8"
  }
 },
 "nbformat": 4,
 "nbformat_minor": 2
}
